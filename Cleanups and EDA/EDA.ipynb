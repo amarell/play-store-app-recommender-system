{
 "cells": [
  {
   "cell_type": "code",
   "execution_count": 2,
   "id": "76c8a794",
   "metadata": {},
   "outputs": [],
   "source": [
    "import pandas as pd\n",
    "import numpy as np"
   ]
  },
  {
   "cell_type": "code",
   "execution_count": 3,
   "id": "d9538cb7",
   "metadata": {},
   "outputs": [],
   "source": [
    "import seaborn as sns\n",
    "import matplotlib.pyplot as plt"
   ]
  },
  {
   "cell_type": "code",
   "execution_count": 4,
   "id": "c194f539",
   "metadata": {},
   "outputs": [
    {
     "data": {
      "text/html": [
       "<div>\n",
       "<style scoped>\n",
       "    .dataframe tbody tr th:only-of-type {\n",
       "        vertical-align: middle;\n",
       "    }\n",
       "\n",
       "    .dataframe tbody tr th {\n",
       "        vertical-align: top;\n",
       "    }\n",
       "\n",
       "    .dataframe thead th {\n",
       "        text-align: right;\n",
       "    }\n",
       "</style>\n",
       "<table border=\"1\" class=\"dataframe\">\n",
       "  <thead>\n",
       "    <tr style=\"text-align: right;\">\n",
       "      <th></th>\n",
       "      <th>App Name</th>\n",
       "      <th>App Id</th>\n",
       "      <th>Category</th>\n",
       "      <th>Rating</th>\n",
       "      <th>Rating Count</th>\n",
       "      <th>Installs</th>\n",
       "      <th>Minimum Installs</th>\n",
       "      <th>Maximum Installs</th>\n",
       "      <th>Free</th>\n",
       "      <th>Price</th>\n",
       "      <th>...</th>\n",
       "      <th>Developer Website</th>\n",
       "      <th>Developer Email</th>\n",
       "      <th>Released</th>\n",
       "      <th>Last Updated</th>\n",
       "      <th>Content Rating</th>\n",
       "      <th>Privacy Policy</th>\n",
       "      <th>Ad Supported</th>\n",
       "      <th>In App Purchases</th>\n",
       "      <th>Editors Choice</th>\n",
       "      <th>Scraped Time</th>\n",
       "    </tr>\n",
       "  </thead>\n",
       "  <tbody>\n",
       "    <tr>\n",
       "      <th>0</th>\n",
       "      <td>Gakondo</td>\n",
       "      <td>com.ishakwe.gakondo</td>\n",
       "      <td>Adventure</td>\n",
       "      <td>0.0</td>\n",
       "      <td>0.0</td>\n",
       "      <td>10+</td>\n",
       "      <td>10.0</td>\n",
       "      <td>15</td>\n",
       "      <td>True</td>\n",
       "      <td>0.0</td>\n",
       "      <td>...</td>\n",
       "      <td>https://beniyizibyose.tk/#/</td>\n",
       "      <td>jean21101999@gmail.com</td>\n",
       "      <td>Feb 26, 2020</td>\n",
       "      <td>Feb 26, 2020</td>\n",
       "      <td>Everyone</td>\n",
       "      <td>https://beniyizibyose.tk/projects/</td>\n",
       "      <td>False</td>\n",
       "      <td>False</td>\n",
       "      <td>False</td>\n",
       "      <td>2021-06-15 20:19:35</td>\n",
       "    </tr>\n",
       "    <tr>\n",
       "      <th>1</th>\n",
       "      <td>Ampere Battery Info</td>\n",
       "      <td>com.webserveis.batteryinfo</td>\n",
       "      <td>Tools</td>\n",
       "      <td>4.4</td>\n",
       "      <td>64.0</td>\n",
       "      <td>5,000+</td>\n",
       "      <td>5000.0</td>\n",
       "      <td>7662</td>\n",
       "      <td>True</td>\n",
       "      <td>0.0</td>\n",
       "      <td>...</td>\n",
       "      <td>https://webserveis.netlify.app/</td>\n",
       "      <td>webserveis@gmail.com</td>\n",
       "      <td>May 21, 2020</td>\n",
       "      <td>May 06, 2021</td>\n",
       "      <td>Everyone</td>\n",
       "      <td>https://dev4phones.wordpress.com/licencia-de-uso/</td>\n",
       "      <td>True</td>\n",
       "      <td>False</td>\n",
       "      <td>False</td>\n",
       "      <td>2021-06-15 20:19:35</td>\n",
       "    </tr>\n",
       "    <tr>\n",
       "      <th>2</th>\n",
       "      <td>Vibook</td>\n",
       "      <td>com.doantiepvien.crm</td>\n",
       "      <td>Productivity</td>\n",
       "      <td>0.0</td>\n",
       "      <td>0.0</td>\n",
       "      <td>50+</td>\n",
       "      <td>50.0</td>\n",
       "      <td>58</td>\n",
       "      <td>True</td>\n",
       "      <td>0.0</td>\n",
       "      <td>...</td>\n",
       "      <td>NaN</td>\n",
       "      <td>vnacrewit@gmail.com</td>\n",
       "      <td>Aug 9, 2019</td>\n",
       "      <td>Aug 19, 2019</td>\n",
       "      <td>Everyone</td>\n",
       "      <td>https://www.vietnamairlines.com/vn/en/terms-an...</td>\n",
       "      <td>False</td>\n",
       "      <td>False</td>\n",
       "      <td>False</td>\n",
       "      <td>2021-06-15 20:19:35</td>\n",
       "    </tr>\n",
       "    <tr>\n",
       "      <th>3</th>\n",
       "      <td>Smart City Trichy Public Service Vehicles 17UC...</td>\n",
       "      <td>cst.stJoseph.ug17ucs548</td>\n",
       "      <td>Communication</td>\n",
       "      <td>5.0</td>\n",
       "      <td>5.0</td>\n",
       "      <td>10+</td>\n",
       "      <td>10.0</td>\n",
       "      <td>19</td>\n",
       "      <td>True</td>\n",
       "      <td>0.0</td>\n",
       "      <td>...</td>\n",
       "      <td>http://www.climatesmarttech.com/</td>\n",
       "      <td>climatesmarttech2@gmail.com</td>\n",
       "      <td>Sep 10, 2018</td>\n",
       "      <td>Oct 13, 2018</td>\n",
       "      <td>Everyone</td>\n",
       "      <td>NaN</td>\n",
       "      <td>True</td>\n",
       "      <td>False</td>\n",
       "      <td>False</td>\n",
       "      <td>2021-06-15 20:19:35</td>\n",
       "    </tr>\n",
       "    <tr>\n",
       "      <th>4</th>\n",
       "      <td>GROW.me</td>\n",
       "      <td>com.horodyski.grower</td>\n",
       "      <td>Tools</td>\n",
       "      <td>0.0</td>\n",
       "      <td>0.0</td>\n",
       "      <td>100+</td>\n",
       "      <td>100.0</td>\n",
       "      <td>478</td>\n",
       "      <td>True</td>\n",
       "      <td>0.0</td>\n",
       "      <td>...</td>\n",
       "      <td>http://www.horodyski.com.pl</td>\n",
       "      <td>rmilekhorodyski@gmail.com</td>\n",
       "      <td>Feb 21, 2020</td>\n",
       "      <td>Nov 12, 2018</td>\n",
       "      <td>Everyone</td>\n",
       "      <td>http://www.horodyski.com.pl</td>\n",
       "      <td>False</td>\n",
       "      <td>False</td>\n",
       "      <td>False</td>\n",
       "      <td>2021-06-15 20:19:35</td>\n",
       "    </tr>\n",
       "  </tbody>\n",
       "</table>\n",
       "<p>5 rows × 24 columns</p>\n",
       "</div>"
      ],
      "text/plain": [
       "                                            App Name  \\\n",
       "0                                            Gakondo   \n",
       "1                                Ampere Battery Info   \n",
       "2                                             Vibook   \n",
       "3  Smart City Trichy Public Service Vehicles 17UC...   \n",
       "4                                            GROW.me   \n",
       "\n",
       "                       App Id       Category  Rating  Rating Count Installs  \\\n",
       "0         com.ishakwe.gakondo      Adventure     0.0           0.0      10+   \n",
       "1  com.webserveis.batteryinfo          Tools     4.4          64.0   5,000+   \n",
       "2        com.doantiepvien.crm   Productivity     0.0           0.0      50+   \n",
       "3     cst.stJoseph.ug17ucs548  Communication     5.0           5.0      10+   \n",
       "4        com.horodyski.grower          Tools     0.0           0.0     100+   \n",
       "\n",
       "   Minimum Installs  Maximum Installs  Free  Price  ...  \\\n",
       "0              10.0                15  True    0.0  ...   \n",
       "1            5000.0              7662  True    0.0  ...   \n",
       "2              50.0                58  True    0.0  ...   \n",
       "3              10.0                19  True    0.0  ...   \n",
       "4             100.0               478  True    0.0  ...   \n",
       "\n",
       "                  Developer Website              Developer Email  \\\n",
       "0       https://beniyizibyose.tk/#/       jean21101999@gmail.com   \n",
       "1   https://webserveis.netlify.app/         webserveis@gmail.com   \n",
       "2                               NaN          vnacrewit@gmail.com   \n",
       "3  http://www.climatesmarttech.com/  climatesmarttech2@gmail.com   \n",
       "4       http://www.horodyski.com.pl    rmilekhorodyski@gmail.com   \n",
       "\n",
       "       Released  Last Updated Content Rating  \\\n",
       "0  Feb 26, 2020  Feb 26, 2020       Everyone   \n",
       "1  May 21, 2020  May 06, 2021       Everyone   \n",
       "2   Aug 9, 2019  Aug 19, 2019       Everyone   \n",
       "3  Sep 10, 2018  Oct 13, 2018       Everyone   \n",
       "4  Feb 21, 2020  Nov 12, 2018       Everyone   \n",
       "\n",
       "                                      Privacy Policy Ad Supported  \\\n",
       "0                 https://beniyizibyose.tk/projects/        False   \n",
       "1  https://dev4phones.wordpress.com/licencia-de-uso/         True   \n",
       "2  https://www.vietnamairlines.com/vn/en/terms-an...        False   \n",
       "3                                                NaN         True   \n",
       "4                        http://www.horodyski.com.pl        False   \n",
       "\n",
       "  In App Purchases Editors Choice         Scraped Time  \n",
       "0            False          False  2021-06-15 20:19:35  \n",
       "1            False          False  2021-06-15 20:19:35  \n",
       "2            False          False  2021-06-15 20:19:35  \n",
       "3            False          False  2021-06-15 20:19:35  \n",
       "4            False          False  2021-06-15 20:19:35  \n",
       "\n",
       "[5 rows x 24 columns]"
      ]
     },
     "execution_count": 4,
     "metadata": {},
     "output_type": "execute_result"
    }
   ],
   "source": [
    "df = pd.read_csv('Google-Playstore.csv')\n",
    "df.head()"
   ]
  },
  {
   "cell_type": "code",
   "execution_count": 5,
   "id": "4e2fb549",
   "metadata": {},
   "outputs": [
    {
     "data": {
      "text/html": [
       "<div>\n",
       "<style scoped>\n",
       "    .dataframe tbody tr th:only-of-type {\n",
       "        vertical-align: middle;\n",
       "    }\n",
       "\n",
       "    .dataframe tbody tr th {\n",
       "        vertical-align: top;\n",
       "    }\n",
       "\n",
       "    .dataframe thead th {\n",
       "        text-align: right;\n",
       "    }\n",
       "</style>\n",
       "<table border=\"1\" class=\"dataframe\">\n",
       "  <thead>\n",
       "    <tr style=\"text-align: right;\">\n",
       "      <th></th>\n",
       "      <th>App Name</th>\n",
       "      <th>App Id</th>\n",
       "      <th>Category</th>\n",
       "      <th>Rating</th>\n",
       "      <th>Rating Count</th>\n",
       "      <th>Installs</th>\n",
       "      <th>Minimum Installs</th>\n",
       "      <th>Maximum Installs</th>\n",
       "      <th>Free</th>\n",
       "      <th>Price</th>\n",
       "      <th>...</th>\n",
       "      <th>Developer Website</th>\n",
       "      <th>Developer Email</th>\n",
       "      <th>Released</th>\n",
       "      <th>Last Updated</th>\n",
       "      <th>Content Rating</th>\n",
       "      <th>Privacy Policy</th>\n",
       "      <th>Ad Supported</th>\n",
       "      <th>In App Purchases</th>\n",
       "      <th>Editors Choice</th>\n",
       "      <th>Scraped Time</th>\n",
       "    </tr>\n",
       "  </thead>\n",
       "  <tbody>\n",
       "    <tr>\n",
       "      <th>385470</th>\n",
       "      <td>WhatsApp Messenger</td>\n",
       "      <td>com.whatsapp</td>\n",
       "      <td>Communication</td>\n",
       "      <td>4.0</td>\n",
       "      <td>138557570.0</td>\n",
       "      <td>5,000,000,000+</td>\n",
       "      <td>5.000000e+09</td>\n",
       "      <td>6265637751</td>\n",
       "      <td>True</td>\n",
       "      <td>0.0</td>\n",
       "      <td>...</td>\n",
       "      <td>http://www.whatsapp.com/</td>\n",
       "      <td>android@support.whatsapp.com</td>\n",
       "      <td>Oct 18, 2010</td>\n",
       "      <td>Jun 09, 2021</td>\n",
       "      <td>Everyone</td>\n",
       "      <td>http://www.whatsapp.com/legal/#Privacy</td>\n",
       "      <td>False</td>\n",
       "      <td>False</td>\n",
       "      <td>True</td>\n",
       "      <td>2021-06-16 02:51:24</td>\n",
       "    </tr>\n",
       "    <tr>\n",
       "      <th>304824</th>\n",
       "      <td>Instagram</td>\n",
       "      <td>com.instagram.android</td>\n",
       "      <td>Social</td>\n",
       "      <td>3.8</td>\n",
       "      <td>120206190.0</td>\n",
       "      <td>1,000,000,000+</td>\n",
       "      <td>1.000000e+09</td>\n",
       "      <td>3559871277</td>\n",
       "      <td>True</td>\n",
       "      <td>0.0</td>\n",
       "      <td>...</td>\n",
       "      <td>http://help.instagram.com/</td>\n",
       "      <td>android-support@instagram.com</td>\n",
       "      <td>Apr 3, 2012</td>\n",
       "      <td>Jun 14, 2021</td>\n",
       "      <td>Teen</td>\n",
       "      <td>http://instagram.com/legal/privacy/</td>\n",
       "      <td>True</td>\n",
       "      <td>True</td>\n",
       "      <td>True</td>\n",
       "      <td>2021-06-16 01:33:46</td>\n",
       "    </tr>\n",
       "    <tr>\n",
       "      <th>2222701</th>\n",
       "      <td>Facebook</td>\n",
       "      <td>com.facebook.katana</td>\n",
       "      <td>Social</td>\n",
       "      <td>2.3</td>\n",
       "      <td>117850066.0</td>\n",
       "      <td>5,000,000,000+</td>\n",
       "      <td>5.000000e+09</td>\n",
       "      <td>6782619635</td>\n",
       "      <td>True</td>\n",
       "      <td>0.0</td>\n",
       "      <td>...</td>\n",
       "      <td>https://www.facebook.com/facebook</td>\n",
       "      <td>facebook.android@fb.com</td>\n",
       "      <td>NaN</td>\n",
       "      <td>Jun 16, 2021</td>\n",
       "      <td>Teen</td>\n",
       "      <td>https://www.facebook.com/about/privacy/</td>\n",
       "      <td>True</td>\n",
       "      <td>True</td>\n",
       "      <td>False</td>\n",
       "      <td>2021-06-16 11:40:20</td>\n",
       "    </tr>\n",
       "    <tr>\n",
       "      <th>881403</th>\n",
       "      <td>YouTube</td>\n",
       "      <td>com.google.android.youtube</td>\n",
       "      <td>Video Players &amp; Editors</td>\n",
       "      <td>4.4</td>\n",
       "      <td>112440547.0</td>\n",
       "      <td>5,000,000,000+</td>\n",
       "      <td>5.000000e+09</td>\n",
       "      <td>9766230924</td>\n",
       "      <td>True</td>\n",
       "      <td>0.0</td>\n",
       "      <td>...</td>\n",
       "      <td>https://support.google.com/youtube/topic/24225...</td>\n",
       "      <td>ytandroid-support@google.com</td>\n",
       "      <td>Oct 20, 2010</td>\n",
       "      <td>Jun 16, 2021</td>\n",
       "      <td>Teen</td>\n",
       "      <td>http://www.google.com/policies/privacy</td>\n",
       "      <td>True</td>\n",
       "      <td>False</td>\n",
       "      <td>False</td>\n",
       "      <td>2021-06-16 10:28:37</td>\n",
       "    </tr>\n",
       "    <tr>\n",
       "      <th>244319</th>\n",
       "      <td>Garena Free Fire - Rampage</td>\n",
       "      <td>com.dts.freefireth</td>\n",
       "      <td>Action</td>\n",
       "      <td>4.2</td>\n",
       "      <td>89177097.0</td>\n",
       "      <td>500,000,000+</td>\n",
       "      <td>5.000000e+08</td>\n",
       "      <td>976536041</td>\n",
       "      <td>True</td>\n",
       "      <td>0.0</td>\n",
       "      <td>...</td>\n",
       "      <td>https://ff.garena.com</td>\n",
       "      <td>freefire@garena.com</td>\n",
       "      <td>Dec 7, 2017</td>\n",
       "      <td>Jun 04, 2021</td>\n",
       "      <td>Mature 17+</td>\n",
       "      <td>https://ff.garena.com/others/policy/en/</td>\n",
       "      <td>False</td>\n",
       "      <td>True</td>\n",
       "      <td>True</td>\n",
       "      <td>2021-06-16 00:32:12</td>\n",
       "    </tr>\n",
       "    <tr>\n",
       "      <th>...</th>\n",
       "      <td>...</td>\n",
       "      <td>...</td>\n",
       "      <td>...</td>\n",
       "      <td>...</td>\n",
       "      <td>...</td>\n",
       "      <td>...</td>\n",
       "      <td>...</td>\n",
       "      <td>...</td>\n",
       "      <td>...</td>\n",
       "      <td>...</td>\n",
       "      <td>...</td>\n",
       "      <td>...</td>\n",
       "      <td>...</td>\n",
       "      <td>...</td>\n",
       "      <td>...</td>\n",
       "      <td>...</td>\n",
       "      <td>...</td>\n",
       "      <td>...</td>\n",
       "      <td>...</td>\n",
       "      <td>...</td>\n",
       "      <td>...</td>\n",
       "    </tr>\n",
       "    <tr>\n",
       "      <th>2312553</th>\n",
       "      <td>Merlins Idle Apelsin</td>\n",
       "      <td>com.elitegamesltd.merlinsidle</td>\n",
       "      <td>Simulation</td>\n",
       "      <td>NaN</td>\n",
       "      <td>NaN</td>\n",
       "      <td>10+</td>\n",
       "      <td>1.000000e+01</td>\n",
       "      <td>44</td>\n",
       "      <td>True</td>\n",
       "      <td>0.0</td>\n",
       "      <td>...</td>\n",
       "      <td>NaN</td>\n",
       "      <td>efgames.net@gmail.com</td>\n",
       "      <td>NaN</td>\n",
       "      <td>Nov 17, 2019</td>\n",
       "      <td>Everyone</td>\n",
       "      <td>http://theelitegames.net/privacy.html</td>\n",
       "      <td>False</td>\n",
       "      <td>False</td>\n",
       "      <td>False</td>\n",
       "      <td>2021-06-16 12:58:58</td>\n",
       "    </tr>\n",
       "    <tr>\n",
       "      <th>2312712</th>\n",
       "      <td>Joule Mobile App</td>\n",
       "      <td>com.companyname.Joule.Xamarin</td>\n",
       "      <td>Productivity</td>\n",
       "      <td>NaN</td>\n",
       "      <td>NaN</td>\n",
       "      <td>100+</td>\n",
       "      <td>1.000000e+02</td>\n",
       "      <td>215</td>\n",
       "      <td>True</td>\n",
       "      <td>0.0</td>\n",
       "      <td>...</td>\n",
       "      <td>NaN</td>\n",
       "      <td>guillermo@joule.ie</td>\n",
       "      <td>NaN</td>\n",
       "      <td>Jan 27, 2020</td>\n",
       "      <td>Everyone</td>\n",
       "      <td>https://www.joule.ie/privacy-policy/</td>\n",
       "      <td>False</td>\n",
       "      <td>False</td>\n",
       "      <td>False</td>\n",
       "      <td>2021-06-16 12:59:06</td>\n",
       "    </tr>\n",
       "    <tr>\n",
       "      <th>2312751</th>\n",
       "      <td>Iris Profissional</td>\n",
       "      <td>com.sys4web.irisprofissional</td>\n",
       "      <td>Health &amp; Fitness</td>\n",
       "      <td>NaN</td>\n",
       "      <td>NaN</td>\n",
       "      <td>50+</td>\n",
       "      <td>5.000000e+01</td>\n",
       "      <td>62</td>\n",
       "      <td>True</td>\n",
       "      <td>0.0</td>\n",
       "      <td>...</td>\n",
       "      <td>http://www.sys4web.com</td>\n",
       "      <td>mobile@sys4web.com</td>\n",
       "      <td>NaN</td>\n",
       "      <td>Jul 24, 2019</td>\n",
       "      <td>Everyone</td>\n",
       "      <td>http://benevolentiav2.azurewebsites.net/static...</td>\n",
       "      <td>False</td>\n",
       "      <td>False</td>\n",
       "      <td>False</td>\n",
       "      <td>2021-06-16 12:59:08</td>\n",
       "    </tr>\n",
       "    <tr>\n",
       "      <th>2312764</th>\n",
       "      <td>Wool Sort Puzzle</td>\n",
       "      <td>com.cla.wool.ballsort.puzzle</td>\n",
       "      <td>Puzzle</td>\n",
       "      <td>NaN</td>\n",
       "      <td>NaN</td>\n",
       "      <td>10,000+</td>\n",
       "      <td>1.000000e+04</td>\n",
       "      <td>10681</td>\n",
       "      <td>True</td>\n",
       "      <td>0.0</td>\n",
       "      <td>...</td>\n",
       "      <td>NaN</td>\n",
       "      <td>superclagame@gmail.com</td>\n",
       "      <td>NaN</td>\n",
       "      <td>Mar 17, 2021</td>\n",
       "      <td>Everyone</td>\n",
       "      <td>https://www.dropbox.com/s/4q5wbqlyu4vpery/poli...</td>\n",
       "      <td>True</td>\n",
       "      <td>False</td>\n",
       "      <td>False</td>\n",
       "      <td>2021-06-16 12:59:09</td>\n",
       "    </tr>\n",
       "    <tr>\n",
       "      <th>2312842</th>\n",
       "      <td>Living Goods (Innovation Network)</td>\n",
       "      <td>org.medicmobile.webapp.mobile.livinggoods_inno...</td>\n",
       "      <td>Medical</td>\n",
       "      <td>NaN</td>\n",
       "      <td>NaN</td>\n",
       "      <td>50+</td>\n",
       "      <td>5.000000e+01</td>\n",
       "      <td>80</td>\n",
       "      <td>True</td>\n",
       "      <td>0.0</td>\n",
       "      <td>...</td>\n",
       "      <td>http://medicmobile.org</td>\n",
       "      <td>android@medicmobile.org</td>\n",
       "      <td>NaN</td>\n",
       "      <td>Oct 08, 2020</td>\n",
       "      <td>Everyone</td>\n",
       "      <td>NaN</td>\n",
       "      <td>False</td>\n",
       "      <td>False</td>\n",
       "      <td>False</td>\n",
       "      <td>2021-06-16 12:59:13</td>\n",
       "    </tr>\n",
       "  </tbody>\n",
       "</table>\n",
       "<p>2312944 rows × 24 columns</p>\n",
       "</div>"
      ],
      "text/plain": [
       "                                  App Name  \\\n",
       "385470                  WhatsApp Messenger   \n",
       "304824                           Instagram   \n",
       "2222701                           Facebook   \n",
       "881403                             YouTube   \n",
       "244319          Garena Free Fire - Rampage   \n",
       "...                                    ...   \n",
       "2312553               Merlins Idle Apelsin   \n",
       "2312712                   Joule Mobile App   \n",
       "2312751                  Iris Profissional   \n",
       "2312764                   Wool Sort Puzzle   \n",
       "2312842  Living Goods (Innovation Network)   \n",
       "\n",
       "                                                    App Id  \\\n",
       "385470                                        com.whatsapp   \n",
       "304824                               com.instagram.android   \n",
       "2222701                                com.facebook.katana   \n",
       "881403                          com.google.android.youtube   \n",
       "244319                                  com.dts.freefireth   \n",
       "...                                                    ...   \n",
       "2312553                      com.elitegamesltd.merlinsidle   \n",
       "2312712                      com.companyname.Joule.Xamarin   \n",
       "2312751                       com.sys4web.irisprofissional   \n",
       "2312764                       com.cla.wool.ballsort.puzzle   \n",
       "2312842  org.medicmobile.webapp.mobile.livinggoods_inno...   \n",
       "\n",
       "                        Category  Rating  Rating Count        Installs  \\\n",
       "385470             Communication     4.0   138557570.0  5,000,000,000+   \n",
       "304824                    Social     3.8   120206190.0  1,000,000,000+   \n",
       "2222701                   Social     2.3   117850066.0  5,000,000,000+   \n",
       "881403   Video Players & Editors     4.4   112440547.0  5,000,000,000+   \n",
       "244319                    Action     4.2    89177097.0    500,000,000+   \n",
       "...                          ...     ...           ...             ...   \n",
       "2312553               Simulation     NaN           NaN             10+   \n",
       "2312712             Productivity     NaN           NaN            100+   \n",
       "2312751         Health & Fitness     NaN           NaN             50+   \n",
       "2312764                   Puzzle     NaN           NaN         10,000+   \n",
       "2312842                  Medical     NaN           NaN             50+   \n",
       "\n",
       "         Minimum Installs  Maximum Installs  Free  Price  ...  \\\n",
       "385470       5.000000e+09        6265637751  True    0.0  ...   \n",
       "304824       1.000000e+09        3559871277  True    0.0  ...   \n",
       "2222701      5.000000e+09        6782619635  True    0.0  ...   \n",
       "881403       5.000000e+09        9766230924  True    0.0  ...   \n",
       "244319       5.000000e+08         976536041  True    0.0  ...   \n",
       "...                   ...               ...   ...    ...  ...   \n",
       "2312553      1.000000e+01                44  True    0.0  ...   \n",
       "2312712      1.000000e+02               215  True    0.0  ...   \n",
       "2312751      5.000000e+01                62  True    0.0  ...   \n",
       "2312764      1.000000e+04             10681  True    0.0  ...   \n",
       "2312842      5.000000e+01                80  True    0.0  ...   \n",
       "\n",
       "                                         Developer Website  \\\n",
       "385470                            http://www.whatsapp.com/   \n",
       "304824                          http://help.instagram.com/   \n",
       "2222701                  https://www.facebook.com/facebook   \n",
       "881403   https://support.google.com/youtube/topic/24225...   \n",
       "244319                               https://ff.garena.com   \n",
       "...                                                    ...   \n",
       "2312553                                                NaN   \n",
       "2312712                                                NaN   \n",
       "2312751                             http://www.sys4web.com   \n",
       "2312764                                                NaN   \n",
       "2312842                             http://medicmobile.org   \n",
       "\n",
       "                       Developer Email      Released  Last Updated  \\\n",
       "385470    android@support.whatsapp.com  Oct 18, 2010  Jun 09, 2021   \n",
       "304824   android-support@instagram.com   Apr 3, 2012  Jun 14, 2021   \n",
       "2222701        facebook.android@fb.com           NaN  Jun 16, 2021   \n",
       "881403    ytandroid-support@google.com  Oct 20, 2010  Jun 16, 2021   \n",
       "244319             freefire@garena.com   Dec 7, 2017  Jun 04, 2021   \n",
       "...                                ...           ...           ...   \n",
       "2312553          efgames.net@gmail.com           NaN  Nov 17, 2019   \n",
       "2312712             guillermo@joule.ie           NaN  Jan 27, 2020   \n",
       "2312751             mobile@sys4web.com           NaN  Jul 24, 2019   \n",
       "2312764         superclagame@gmail.com           NaN  Mar 17, 2021   \n",
       "2312842        android@medicmobile.org           NaN  Oct 08, 2020   \n",
       "\n",
       "        Content Rating                                     Privacy Policy  \\\n",
       "385470        Everyone             http://www.whatsapp.com/legal/#Privacy   \n",
       "304824            Teen                http://instagram.com/legal/privacy/   \n",
       "2222701           Teen            https://www.facebook.com/about/privacy/   \n",
       "881403            Teen             http://www.google.com/policies/privacy   \n",
       "244319      Mature 17+            https://ff.garena.com/others/policy/en/   \n",
       "...                ...                                                ...   \n",
       "2312553       Everyone              http://theelitegames.net/privacy.html   \n",
       "2312712       Everyone               https://www.joule.ie/privacy-policy/   \n",
       "2312751       Everyone  http://benevolentiav2.azurewebsites.net/static...   \n",
       "2312764       Everyone  https://www.dropbox.com/s/4q5wbqlyu4vpery/poli...   \n",
       "2312842       Everyone                                                NaN   \n",
       "\n",
       "        Ad Supported In App Purchases Editors Choice         Scraped Time  \n",
       "385470         False            False           True  2021-06-16 02:51:24  \n",
       "304824          True             True           True  2021-06-16 01:33:46  \n",
       "2222701         True             True          False  2021-06-16 11:40:20  \n",
       "881403          True            False          False  2021-06-16 10:28:37  \n",
       "244319         False             True           True  2021-06-16 00:32:12  \n",
       "...              ...              ...            ...                  ...  \n",
       "2312553        False            False          False  2021-06-16 12:58:58  \n",
       "2312712        False            False          False  2021-06-16 12:59:06  \n",
       "2312751        False            False          False  2021-06-16 12:59:08  \n",
       "2312764         True            False          False  2021-06-16 12:59:09  \n",
       "2312842        False            False          False  2021-06-16 12:59:13  \n",
       "\n",
       "[2312944 rows x 24 columns]"
      ]
     },
     "execution_count": 5,
     "metadata": {},
     "output_type": "execute_result"
    }
   ],
   "source": [
    "df.sort_values(by = \"Rating Count\", ascending = False)"
   ]
  },
  {
   "cell_type": "code",
   "execution_count": 6,
   "id": "55b50a2e",
   "metadata": {},
   "outputs": [
    {
     "data": {
      "text/plain": [
       "App Name                  2\n",
       "App Id                    0\n",
       "Category                  0\n",
       "Rating                22883\n",
       "Rating Count          22883\n",
       "Installs                107\n",
       "Minimum Installs        107\n",
       "Maximum Installs          0\n",
       "Free                      0\n",
       "Price                     0\n",
       "Currency                135\n",
       "Size                    196\n",
       "Minimum Android        6530\n",
       "Developer Id             33\n",
       "Developer Website    760835\n",
       "Developer Email          31\n",
       "Released              71053\n",
       "Last Updated              0\n",
       "Content Rating            0\n",
       "Privacy Policy       420953\n",
       "Ad Supported              0\n",
       "In App Purchases          0\n",
       "Editors Choice            0\n",
       "Scraped Time              0\n",
       "dtype: int64"
      ]
     },
     "execution_count": 6,
     "metadata": {},
     "output_type": "execute_result"
    }
   ],
   "source": [
    "df.isnull().sum()"
   ]
  },
  {
   "cell_type": "code",
   "execution_count": 7,
   "id": "44550e29",
   "metadata": {},
   "outputs": [],
   "source": [
    "# Drop records where the app name is missing\n",
    "df = df[-df['App Name'].isnull()].copy()"
   ]
  },
  {
   "cell_type": "code",
   "execution_count": 8,
   "id": "a285fc08",
   "metadata": {},
   "outputs": [
    {
     "data": {
      "text/plain": [
       "App Name                  0\n",
       "App Id                    0\n",
       "Category                  0\n",
       "Rating                22883\n",
       "Rating Count          22883\n",
       "Installs                107\n",
       "Minimum Installs        107\n",
       "Maximum Installs          0\n",
       "Free                      0\n",
       "Price                     0\n",
       "Currency                135\n",
       "Size                    196\n",
       "Minimum Android        6530\n",
       "Developer Id             33\n",
       "Developer Website    760834\n",
       "Developer Email          31\n",
       "Released              71053\n",
       "Last Updated              0\n",
       "Content Rating            0\n",
       "Privacy Policy       420952\n",
       "Ad Supported              0\n",
       "In App Purchases          0\n",
       "Editors Choice            0\n",
       "Scraped Time              0\n",
       "dtype: int64"
      ]
     },
     "execution_count": 8,
     "metadata": {},
     "output_type": "execute_result"
    }
   ],
   "source": [
    "df.isnull().sum()"
   ]
  },
  {
   "cell_type": "code",
   "execution_count": 9,
   "id": "52877587",
   "metadata": {},
   "outputs": [
    {
     "data": {
      "text/html": [
       "<div>\n",
       "<style scoped>\n",
       "    .dataframe tbody tr th:only-of-type {\n",
       "        vertical-align: middle;\n",
       "    }\n",
       "\n",
       "    .dataframe tbody tr th {\n",
       "        vertical-align: top;\n",
       "    }\n",
       "\n",
       "    .dataframe thead th {\n",
       "        text-align: right;\n",
       "    }\n",
       "</style>\n",
       "<table border=\"1\" class=\"dataframe\">\n",
       "  <thead>\n",
       "    <tr style=\"text-align: right;\">\n",
       "      <th></th>\n",
       "      <th>Rating</th>\n",
       "      <th>Rating Count</th>\n",
       "      <th>Minimum Installs</th>\n",
       "      <th>Maximum Installs</th>\n",
       "      <th>Price</th>\n",
       "    </tr>\n",
       "  </thead>\n",
       "  <tbody>\n",
       "    <tr>\n",
       "      <th>count</th>\n",
       "      <td>2.290059e+06</td>\n",
       "      <td>2.290059e+06</td>\n",
       "      <td>2.312835e+06</td>\n",
       "      <td>2.312942e+06</td>\n",
       "      <td>2.312942e+06</td>\n",
       "    </tr>\n",
       "    <tr>\n",
       "      <th>mean</th>\n",
       "      <td>2.203151e+00</td>\n",
       "      <td>2.864841e+03</td>\n",
       "      <td>1.834454e+05</td>\n",
       "      <td>3.202020e+05</td>\n",
       "      <td>1.034992e-01</td>\n",
       "    </tr>\n",
       "    <tr>\n",
       "      <th>std</th>\n",
       "      <td>2.106223e+00</td>\n",
       "      <td>2.121627e+05</td>\n",
       "      <td>1.513145e+07</td>\n",
       "      <td>2.355497e+07</td>\n",
       "      <td>2.633128e+00</td>\n",
       "    </tr>\n",
       "    <tr>\n",
       "      <th>min</th>\n",
       "      <td>0.000000e+00</td>\n",
       "      <td>0.000000e+00</td>\n",
       "      <td>0.000000e+00</td>\n",
       "      <td>0.000000e+00</td>\n",
       "      <td>0.000000e+00</td>\n",
       "    </tr>\n",
       "    <tr>\n",
       "      <th>25%</th>\n",
       "      <td>0.000000e+00</td>\n",
       "      <td>0.000000e+00</td>\n",
       "      <td>5.000000e+01</td>\n",
       "      <td>8.400000e+01</td>\n",
       "      <td>0.000000e+00</td>\n",
       "    </tr>\n",
       "    <tr>\n",
       "      <th>50%</th>\n",
       "      <td>2.900000e+00</td>\n",
       "      <td>6.000000e+00</td>\n",
       "      <td>5.000000e+02</td>\n",
       "      <td>6.950000e+02</td>\n",
       "      <td>0.000000e+00</td>\n",
       "    </tr>\n",
       "    <tr>\n",
       "      <th>75%</th>\n",
       "      <td>4.300000e+00</td>\n",
       "      <td>4.200000e+01</td>\n",
       "      <td>5.000000e+03</td>\n",
       "      <td>7.354000e+03</td>\n",
       "      <td>0.000000e+00</td>\n",
       "    </tr>\n",
       "    <tr>\n",
       "      <th>max</th>\n",
       "      <td>5.000000e+00</td>\n",
       "      <td>1.385576e+08</td>\n",
       "      <td>1.000000e+10</td>\n",
       "      <td>1.205763e+10</td>\n",
       "      <td>4.000000e+02</td>\n",
       "    </tr>\n",
       "  </tbody>\n",
       "</table>\n",
       "</div>"
      ],
      "text/plain": [
       "             Rating  Rating Count  Minimum Installs  Maximum Installs  \\\n",
       "count  2.290059e+06  2.290059e+06      2.312835e+06      2.312942e+06   \n",
       "mean   2.203151e+00  2.864841e+03      1.834454e+05      3.202020e+05   \n",
       "std    2.106223e+00  2.121627e+05      1.513145e+07      2.355497e+07   \n",
       "min    0.000000e+00  0.000000e+00      0.000000e+00      0.000000e+00   \n",
       "25%    0.000000e+00  0.000000e+00      5.000000e+01      8.400000e+01   \n",
       "50%    2.900000e+00  6.000000e+00      5.000000e+02      6.950000e+02   \n",
       "75%    4.300000e+00  4.200000e+01      5.000000e+03      7.354000e+03   \n",
       "max    5.000000e+00  1.385576e+08      1.000000e+10      1.205763e+10   \n",
       "\n",
       "              Price  \n",
       "count  2.312942e+06  \n",
       "mean   1.034992e-01  \n",
       "std    2.633128e+00  \n",
       "min    0.000000e+00  \n",
       "25%    0.000000e+00  \n",
       "50%    0.000000e+00  \n",
       "75%    0.000000e+00  \n",
       "max    4.000000e+02  "
      ]
     },
     "execution_count": 9,
     "metadata": {},
     "output_type": "execute_result"
    }
   ],
   "source": [
    "df.describe()"
   ]
  },
  {
   "cell_type": "code",
   "execution_count": 10,
   "id": "acda593e",
   "metadata": {},
   "outputs": [
    {
     "data": {
      "text/plain": [
       "array(['USD', 'XXX', 'CAD', 'EUR', 'INR', nan, 'VND', 'GBP', 'BRL', 'KRW',\n",
       "       'TRY', 'RUB', 'SGD', 'AUD', 'PKR', 'ZAR'], dtype=object)"
      ]
     },
     "execution_count": 10,
     "metadata": {},
     "output_type": "execute_result"
    }
   ],
   "source": [
    "df['Currency'].unique()"
   ]
  },
  {
   "cell_type": "code",
   "execution_count": 11,
   "id": "12afe0ce",
   "metadata": {},
   "outputs": [],
   "source": [
    "# we will just use USD as default currency\n",
    "df['Currency'].fillna('USD', inplace = True)"
   ]
  },
  {
   "cell_type": "code",
   "execution_count": 12,
   "id": "3fc988a5",
   "metadata": {},
   "outputs": [
    {
     "data": {
      "text/plain": [
       "App Name                  0\n",
       "App Id                    0\n",
       "Category                  0\n",
       "Rating                22883\n",
       "Rating Count          22883\n",
       "Installs                107\n",
       "Minimum Installs        107\n",
       "Maximum Installs          0\n",
       "Free                      0\n",
       "Price                     0\n",
       "Currency                  0\n",
       "Size                    196\n",
       "Minimum Android        6530\n",
       "Developer Id             33\n",
       "Developer Website    760834\n",
       "Developer Email          31\n",
       "Released              71053\n",
       "Last Updated              0\n",
       "Content Rating            0\n",
       "Privacy Policy       420952\n",
       "Ad Supported              0\n",
       "In App Purchases          0\n",
       "Editors Choice            0\n",
       "Scraped Time              0\n",
       "dtype: int64"
      ]
     },
     "execution_count": 12,
     "metadata": {},
     "output_type": "execute_result"
    }
   ],
   "source": [
    "df.isnull().sum()"
   ]
  },
  {
   "cell_type": "code",
   "execution_count": 13,
   "id": "45977d5f",
   "metadata": {},
   "outputs": [],
   "source": [
    "# drop all records that do not have the privacy policy defined\n",
    "df = df[-df['Privacy Policy'].isnull()].copy()"
   ]
  },
  {
   "cell_type": "code",
   "execution_count": 14,
   "id": "d41d4710",
   "metadata": {},
   "outputs": [
    {
     "data": {
      "text/plain": [
       "App Name                  0\n",
       "App Id                    0\n",
       "Category                  0\n",
       "Rating                16128\n",
       "Rating Count          16128\n",
       "Installs                 87\n",
       "Minimum Installs         87\n",
       "Maximum Installs          0\n",
       "Free                      0\n",
       "Price                     0\n",
       "Currency                  0\n",
       "Size                    144\n",
       "Minimum Android        4785\n",
       "Developer Id             29\n",
       "Developer Website    556231\n",
       "Developer Email           3\n",
       "Released              57302\n",
       "Last Updated              0\n",
       "Content Rating            0\n",
       "Privacy Policy            0\n",
       "Ad Supported              0\n",
       "In App Purchases          0\n",
       "Editors Choice            0\n",
       "Scraped Time              0\n",
       "dtype: int64"
      ]
     },
     "execution_count": 14,
     "metadata": {},
     "output_type": "execute_result"
    }
   ],
   "source": [
    "df.isnull().sum()"
   ]
  },
  {
   "cell_type": "code",
   "execution_count": 15,
   "id": "c4283fca",
   "metadata": {},
   "outputs": [],
   "source": [
    "# get rid of developer website and developer email columns\n",
    "df.drop('Developer Website', inplace=True, axis=1)\n",
    "df.drop('Developer Email', inplace=True, axis=1)"
   ]
  },
  {
   "cell_type": "code",
   "execution_count": 16,
   "id": "230b3bef",
   "metadata": {},
   "outputs": [
    {
     "data": {
      "text/plain": [
       "App Name                0\n",
       "App Id                  0\n",
       "Category                0\n",
       "Rating              16128\n",
       "Rating Count        16128\n",
       "Installs               87\n",
       "Minimum Installs       87\n",
       "Maximum Installs        0\n",
       "Free                    0\n",
       "Price                   0\n",
       "Currency                0\n",
       "Size                  144\n",
       "Minimum Android      4785\n",
       "Developer Id           29\n",
       "Released            57302\n",
       "Last Updated            0\n",
       "Content Rating          0\n",
       "Privacy Policy          0\n",
       "Ad Supported            0\n",
       "In App Purchases        0\n",
       "Editors Choice          0\n",
       "Scraped Time            0\n",
       "dtype: int64"
      ]
     },
     "execution_count": 16,
     "metadata": {},
     "output_type": "execute_result"
    }
   ],
   "source": [
    "df.isnull().sum()"
   ]
  },
  {
   "cell_type": "code",
   "execution_count": 17,
   "id": "6e78e38c",
   "metadata": {},
   "outputs": [],
   "source": [
    "# get rid of records where the developer id is missing\n",
    "df = df[-df['Developer Id'].isnull()].copy()"
   ]
  },
  {
   "cell_type": "code",
   "execution_count": 18,
   "id": "4cf71215",
   "metadata": {},
   "outputs": [
    {
     "data": {
      "text/plain": [
       "App Name                0\n",
       "App Id                  0\n",
       "Category                0\n",
       "Rating              16128\n",
       "Rating Count        16128\n",
       "Installs               87\n",
       "Minimum Installs       87\n",
       "Maximum Installs        0\n",
       "Free                    0\n",
       "Price                   0\n",
       "Currency                0\n",
       "Size                  144\n",
       "Minimum Android      4785\n",
       "Developer Id            0\n",
       "Released            57301\n",
       "Last Updated            0\n",
       "Content Rating          0\n",
       "Privacy Policy          0\n",
       "Ad Supported            0\n",
       "In App Purchases        0\n",
       "Editors Choice          0\n",
       "Scraped Time            0\n",
       "dtype: int64"
      ]
     },
     "execution_count": 18,
     "metadata": {},
     "output_type": "execute_result"
    }
   ],
   "source": [
    "df.isnull().sum()"
   ]
  },
  {
   "cell_type": "code",
   "execution_count": 19,
   "id": "9f5a973f",
   "metadata": {},
   "outputs": [
    {
     "data": {
      "text/plain": [
       "App Name                0\n",
       "App Id                  0\n",
       "Category                0\n",
       "Rating              16128\n",
       "Rating Count        16128\n",
       "Installs               87\n",
       "Minimum Installs       87\n",
       "Maximum Installs        0\n",
       "Free                    0\n",
       "Price                   0\n",
       "Currency                0\n",
       "Size                  144\n",
       "Minimum Android      4785\n",
       "Developer Id            0\n",
       "Released                0\n",
       "Last Updated            0\n",
       "Content Rating          0\n",
       "Privacy Policy          0\n",
       "Ad Supported            0\n",
       "In App Purchases        0\n",
       "Editors Choice          0\n",
       "Scraped Time            0\n",
       "dtype: int64"
      ]
     },
     "execution_count": 19,
     "metadata": {},
     "output_type": "execute_result"
    }
   ],
   "source": [
    "# for each record with missing released column, insert the last updated\n",
    "df['Released'].fillna(df['Last Updated'], inplace = True)\n",
    "\n",
    "df.isnull().sum()"
   ]
  },
  {
   "cell_type": "code",
   "execution_count": 20,
   "id": "44762afd",
   "metadata": {},
   "outputs": [],
   "source": [
    "# replace missing minimum android with minimum android mode\n",
    "minimum_android_mode = df['Minimum Android'].mode()[0]\n",
    "\n",
    "df['Minimum Android'].fillna(minimum_android_mode, inplace = True)"
   ]
  },
  {
   "cell_type": "code",
   "execution_count": 21,
   "id": "a2bb95bd",
   "metadata": {},
   "outputs": [
    {
     "data": {
      "text/plain": [
       "App Name                0\n",
       "App Id                  0\n",
       "Category                0\n",
       "Rating              16128\n",
       "Rating Count        16128\n",
       "Installs               87\n",
       "Minimum Installs       87\n",
       "Maximum Installs        0\n",
       "Free                    0\n",
       "Price                   0\n",
       "Currency                0\n",
       "Size                  144\n",
       "Minimum Android         0\n",
       "Developer Id            0\n",
       "Released                0\n",
       "Last Updated            0\n",
       "Content Rating          0\n",
       "Privacy Policy          0\n",
       "Ad Supported            0\n",
       "In App Purchases        0\n",
       "Editors Choice          0\n",
       "Scraped Time            0\n",
       "dtype: int64"
      ]
     },
     "execution_count": 21,
     "metadata": {},
     "output_type": "execute_result"
    }
   ],
   "source": [
    "df.isnull().sum()"
   ]
  },
  {
   "cell_type": "code",
   "execution_count": 22,
   "id": "bdbfcece",
   "metadata": {},
   "outputs": [],
   "source": [
    "size_mode = df['Size'].mode()[0]\n",
    "\n",
    "# this will be 'Varies with device'\n",
    "\n",
    "df['Size'].fillna(size_mode, inplace = True)"
   ]
  },
  {
   "cell_type": "code",
   "execution_count": 23,
   "id": "6dcfe146",
   "metadata": {},
   "outputs": [
    {
     "data": {
      "text/plain": [
       "App Name                0\n",
       "App Id                  0\n",
       "Category                0\n",
       "Rating              16128\n",
       "Rating Count        16128\n",
       "Installs               87\n",
       "Minimum Installs       87\n",
       "Maximum Installs        0\n",
       "Free                    0\n",
       "Price                   0\n",
       "Currency                0\n",
       "Size                    0\n",
       "Minimum Android         0\n",
       "Developer Id            0\n",
       "Released                0\n",
       "Last Updated            0\n",
       "Content Rating          0\n",
       "Privacy Policy          0\n",
       "Ad Supported            0\n",
       "In App Purchases        0\n",
       "Editors Choice          0\n",
       "Scraped Time            0\n",
       "dtype: int64"
      ]
     },
     "execution_count": 23,
     "metadata": {},
     "output_type": "execute_result"
    }
   ],
   "source": [
    "df.isnull().sum()"
   ]
  },
  {
   "cell_type": "code",
   "execution_count": 24,
   "id": "d2358a98",
   "metadata": {},
   "outputs": [
    {
     "data": {
      "text/plain": [
       "App Name             0\n",
       "App Id               0\n",
       "Category             0\n",
       "Rating               0\n",
       "Rating Count         0\n",
       "Installs            87\n",
       "Minimum Installs    87\n",
       "Maximum Installs     0\n",
       "Free                 0\n",
       "Price                0\n",
       "Currency             0\n",
       "Size                 0\n",
       "Minimum Android      0\n",
       "Developer Id         0\n",
       "Released             0\n",
       "Last Updated         0\n",
       "Content Rating       0\n",
       "Privacy Policy       0\n",
       "Ad Supported         0\n",
       "In App Purchases     0\n",
       "Editors Choice       0\n",
       "Scraped Time         0\n",
       "dtype: int64"
      ]
     },
     "execution_count": 24,
     "metadata": {},
     "output_type": "execute_result"
    }
   ],
   "source": [
    "# replace missing rating with rating mode\n",
    "# replace missing rating count with 1 (only one rating given...)\n",
    "\n",
    "rating_mode = df['Rating'].mode()[0]\n",
    "\n",
    "df['Rating'].fillna(rating_mode, inplace = True)\n",
    "df['Rating Count'].fillna(1, inplace = True)\n",
    "\n",
    "df.isnull().sum()"
   ]
  },
  {
   "cell_type": "code",
   "execution_count": 25,
   "id": "762a9cda",
   "metadata": {},
   "outputs": [
    {
     "data": {
      "text/plain": [
       "App Name            0\n",
       "App Id              0\n",
       "Category            0\n",
       "Rating              0\n",
       "Rating Count        0\n",
       "Installs            0\n",
       "Minimum Installs    0\n",
       "Maximum Installs    0\n",
       "Free                0\n",
       "Price               0\n",
       "Currency            0\n",
       "Size                0\n",
       "Minimum Android     0\n",
       "Developer Id        0\n",
       "Released            0\n",
       "Last Updated        0\n",
       "Content Rating      0\n",
       "Privacy Policy      0\n",
       "Ad Supported        0\n",
       "In App Purchases    0\n",
       "Editors Choice      0\n",
       "Scraped Time        0\n",
       "dtype: int64"
      ]
     },
     "execution_count": 25,
     "metadata": {},
     "output_type": "execute_result"
    }
   ],
   "source": [
    "# drop all records that have missing number of installs information\n",
    "\n",
    "df = df[-df['Installs'].isnull()].copy()\n",
    "\n",
    "df.isnull().sum()"
   ]
  },
  {
   "cell_type": "code",
   "execution_count": 26,
   "id": "8929080b",
   "metadata": {},
   "outputs": [
    {
     "data": {
      "text/plain": [
       "Education                  0.101978\n",
       "Music & Audio              0.072159\n",
       "Business                   0.066293\n",
       "Entertainment              0.057963\n",
       "Tools                      0.056212\n",
       "Lifestyle                  0.054668\n",
       "Books & Reference          0.047683\n",
       "Health & Fitness           0.037657\n",
       "Personalization            0.037338\n",
       "Shopping                   0.035093\n",
       "Food & Drink               0.034292\n",
       "Productivity               0.033765\n",
       "Travel & Local             0.030512\n",
       "Finance                    0.029559\n",
       "Communication              0.021890\n",
       "Sports                     0.020527\n",
       "Social                     0.020455\n",
       "Puzzle                     0.020250\n",
       "Casual                     0.019306\n",
       "News & Magazines           0.019050\n",
       "Arcade                     0.018856\n",
       "Photography                0.017219\n",
       "Medical                    0.013822\n",
       "Maps & Navigation          0.011714\n",
       "Action                     0.010894\n",
       "Simulation                 0.010310\n",
       "Educational                0.009124\n",
       "Adventure                  0.008942\n",
       "Auto & Vehicles            0.008051\n",
       "Art & Design               0.007879\n",
       "House & Home               0.006309\n",
       "Video Players & Editors    0.006258\n",
       "Events                     0.005816\n",
       "Beauty                     0.005357\n",
       "Trivia                     0.004762\n",
       "Racing                     0.004444\n",
       "Role Playing               0.004368\n",
       "Board                      0.004024\n",
       "Word                       0.003715\n",
       "Card                       0.003439\n",
       "Strategy                   0.003234\n",
       "Dating                     0.003090\n",
       "Weather                    0.002854\n",
       "Casino                     0.002255\n",
       "Music                      0.001848\n",
       "Libraries & Demo           0.001802\n",
       "Parenting                  0.001715\n",
       "Comics                     0.001248\n",
       "Name: Category, dtype: float64"
      ]
     },
     "execution_count": 26,
     "metadata": {},
     "output_type": "execute_result"
    }
   ],
   "source": [
    "df['Category'].value_counts(normalize=True)"
   ]
  },
  {
   "cell_type": "code",
   "execution_count": 27,
   "id": "449499c1",
   "metadata": {},
   "outputs": [
    {
     "data": {
      "text/plain": [
       "<AxesSubplot:>"
      ]
     },
     "execution_count": 27,
     "metadata": {},
     "output_type": "execute_result"
    },
    {
     "data": {
      "image/png": "[encoded data removed]",
      "text/plain": [
       "<Figure size 432x288 with 1 Axes>"
      ]
     },
     "metadata": {
      "needs_background": "light"
     },
     "output_type": "display_data"
    }
   ],
   "source": [
    "df['Category'].value_counts(normalize=True).head(10).plot.barh()"
   ]
  },
  {
   "cell_type": "code",
   "execution_count": 28,
   "id": "a4775e6b",
   "metadata": {},
   "outputs": [
    {
     "data": {
      "text/plain": [
       "<AxesSubplot:ylabel='Minimum Android'>"
      ]
     },
     "execution_count": 28,
     "metadata": {},
     "output_type": "execute_result"
    },
    {
     "data": {
      "image/png": "[encoded data removed]",
      "text/plain": [
       "<Figure size 432x288 with 1 Axes>"
      ]
     },
     "metadata": {},
     "output_type": "display_data"
    }
   ],
   "source": [
    "df['Minimum Android'].value_counts(normalize=True).head(10).plot.pie()"
   ]
  },
  {
   "cell_type": "code",
   "execution_count": 29,
   "id": "398b9cc7",
   "metadata": {},
   "outputs": [
    {
     "data": {
      "text/plain": [
       "<AxesSubplot:>"
      ]
     },
     "execution_count": 29,
     "metadata": {},
     "output_type": "execute_result"
    },
    {
     "data": {
      "image/png": "[encoded data removed]",
      "text/plain": [
       "<Figure size 432x288 with 1 Axes>"
      ]
     },
     "metadata": {
      "needs_background": "light"
     },
     "output_type": "display_data"
    }
   ],
   "source": [
    "df['Installs'].value_counts(normalize=True).plot.barh()"
   ]
  },
  {
   "cell_type": "code",
   "execution_count": 30,
   "id": "a634a7f0",
   "metadata": {},
   "outputs": [
    {
     "data": {
      "text/plain": [
       "count     1891874\n",
       "unique         22\n",
       "top          100+\n",
       "freq       357347\n",
       "Name: Installs, dtype: object"
      ]
     },
     "execution_count": 30,
     "metadata": {},
     "output_type": "execute_result"
    }
   ],
   "source": [
    "df['Installs'].describe()"
   ]
  },
  {
   "cell_type": "code",
   "execution_count": 31,
   "id": "8e8a2cfe",
   "metadata": {},
   "outputs": [
    {
     "data": {
      "text/plain": [
       "count    1.891874e+06\n",
       "mean     9.315970e-02\n",
       "std      2.515868e+00\n",
       "min      0.000000e+00\n",
       "25%      0.000000e+00\n",
       "50%      0.000000e+00\n",
       "75%      0.000000e+00\n",
       "max      4.000000e+02\n",
       "Name: Price, dtype: float64"
      ]
     },
     "execution_count": 31,
     "metadata": {},
     "output_type": "execute_result"
    }
   ],
   "source": [
    "df['Price'].describe()"
   ]
  },
  {
   "cell_type": "code",
   "execution_count": 32,
   "id": "0a8d6a54",
   "metadata": {},
   "outputs": [
    {
     "data": {
      "text/plain": [
       "<AxesSubplot:>"
      ]
     },
     "execution_count": 32,
     "metadata": {},
     "output_type": "execute_result"
    },
    {
     "data": {
      "image/png": "[encoded data removed]",
      "text/plain": [
       "<Figure size 432x288 with 1 Axes>"
      ]
     },
     "metadata": {
      "needs_background": "light"
     },
     "output_type": "display_data"
    }
   ],
   "source": [
    "df['Currency'].value_counts(normalize=True).plot.barh()"
   ]
  },
  {
   "cell_type": "code",
   "execution_count": 33,
   "id": "cd8822f2",
   "metadata": {},
   "outputs": [
    {
     "data": {
      "text/plain": [
       "USD    9.995201e-01\n",
       "XXX    4.699044e-04\n",
       "EUR    3.171459e-06\n",
       "INR    2.114306e-06\n",
       "GBP    1.585729e-06\n",
       "VND    5.285764e-07\n",
       "KRW    5.285764e-07\n",
       "TRY    5.285764e-07\n",
       "SGD    5.285764e-07\n",
       "PKR    5.285764e-07\n",
       "ZAR    5.285764e-07\n",
       "Name: Currency, dtype: float64"
      ]
     },
     "execution_count": 33,
     "metadata": {},
     "output_type": "execute_result"
    }
   ],
   "source": [
    "df['Currency'].value_counts(normalize=True)"
   ]
  },
  {
   "cell_type": "code",
   "execution_count": 34,
   "id": "1614859e",
   "metadata": {},
   "outputs": [],
   "source": [
    "# since USD is the currency of 99% of the dataset, remove all other records that are not USD\n",
    "df = df[df['Currency'] == 'USD'].copy()"
   ]
  },
  {
   "cell_type": "code",
   "execution_count": 35,
   "id": "0f1aa264",
   "metadata": {},
   "outputs": [
    {
     "data": {
      "text/plain": [
       "USD    1.0\n",
       "Name: Currency, dtype: float64"
      ]
     },
     "execution_count": 35,
     "metadata": {},
     "output_type": "execute_result"
    }
   ],
   "source": [
    "df['Currency'].value_counts(normalize=True)"
   ]
  },
  {
   "cell_type": "code",
   "execution_count": 36,
   "id": "884699e8",
   "metadata": {},
   "outputs": [
    {
     "data": {
      "text/plain": [
       "count    1.890966e+06\n",
       "mean     3.798441e+05\n",
       "std      2.574062e+07\n",
       "min      0.000000e+00\n",
       "25%      9.800000e+01\n",
       "50%      8.260000e+02\n",
       "75%      8.934000e+03\n",
       "max      1.205763e+10\n",
       "Name: Maximum Installs, dtype: float64"
      ]
     },
     "execution_count": 36,
     "metadata": {},
     "output_type": "execute_result"
    }
   ],
   "source": [
    "# rating count, maximum installs, price\n",
    "df['Maximum Installs'].describe()"
   ]
  },
  {
   "cell_type": "code",
   "execution_count": 37,
   "id": "5184069a",
   "metadata": {},
   "outputs": [
    {
     "data": {
      "text/plain": [
       "<matplotlib.collections.PathCollection at 0x1d86522b880>"
      ]
     },
     "execution_count": 37,
     "metadata": {},
     "output_type": "execute_result"
    },
    {
     "data": {
      "image/png": "[encoded data removed]",
      "text/plain": [
       "<Figure size 432x288 with 1 Axes>"
      ]
     },
     "metadata": {
      "needs_background": "light"
     },
     "output_type": "display_data"
    }
   ],
   "source": [
    "plt.scatter(df['Maximum Installs'], df['Rating Count'])"
   ]
  },
  {
   "cell_type": "code",
   "execution_count": 39,
   "id": "c806f8d6",
   "metadata": {},
   "outputs": [
    {
     "data": {
      "text/plain": [
       "<seaborn.axisgrid.PairGrid at 0x1d8672448b0>"
      ]
     },
     "execution_count": 39,
     "metadata": {},
     "output_type": "execute_result"
    },
    {
     "data": {
      "image/png": "[encoded data removed]",
      "text/plain": [
       "<Figure size 540x540 with 12 Axes>"
      ]
     },
     "metadata": {
      "needs_background": "light"
     },
     "output_type": "display_data"
    }
   ],
   "source": [
    "sns.pairplot(data = df.head(1000), vars=['Rating Count', 'Price', 'Maximum Installs'])"
   ]
  },
  {
   "cell_type": "code",
   "execution_count": 41,
   "id": "0b5ae256",
   "metadata": {},
   "outputs": [
    {
     "data": {
      "text/html": [
       "<div>\n",
       "<style scoped>\n",
       "    .dataframe tbody tr th:only-of-type {\n",
       "        vertical-align: middle;\n",
       "    }\n",
       "\n",
       "    .dataframe tbody tr th {\n",
       "        vertical-align: top;\n",
       "    }\n",
       "\n",
       "    .dataframe thead th {\n",
       "        text-align: right;\n",
       "    }\n",
       "</style>\n",
       "<table border=\"1\" class=\"dataframe\">\n",
       "  <thead>\n",
       "    <tr style=\"text-align: right;\">\n",
       "      <th></th>\n",
       "      <th>Rating Count</th>\n",
       "      <th>Maximum Installs</th>\n",
       "      <th>Price</th>\n",
       "    </tr>\n",
       "  </thead>\n",
       "  <tbody>\n",
       "    <tr>\n",
       "      <th>Rating Count</th>\n",
       "      <td>1.000000</td>\n",
       "      <td>0.551470</td>\n",
       "      <td>-0.000408</td>\n",
       "    </tr>\n",
       "    <tr>\n",
       "      <th>Maximum Installs</th>\n",
       "      <td>0.551470</td>\n",
       "      <td>1.000000</td>\n",
       "      <td>-0.000526</td>\n",
       "    </tr>\n",
       "    <tr>\n",
       "      <th>Price</th>\n",
       "      <td>-0.000408</td>\n",
       "      <td>-0.000526</td>\n",
       "      <td>1.000000</td>\n",
       "    </tr>\n",
       "  </tbody>\n",
       "</table>\n",
       "</div>"
      ],
      "text/plain": [
       "                  Rating Count  Maximum Installs     Price\n",
       "Rating Count          1.000000          0.551470 -0.000408\n",
       "Maximum Installs      0.551470          1.000000 -0.000526\n",
       "Price                -0.000408         -0.000526  1.000000"
      ]
     },
     "execution_count": 41,
     "metadata": {},
     "output_type": "execute_result"
    }
   ],
   "source": [
    "df[['Rating Count', 'Maximum Installs', 'Price']].corr()"
   ]
  },
  {
   "cell_type": "code",
   "execution_count": 43,
   "id": "ded67390",
   "metadata": {},
   "outputs": [
    {
     "data": {
      "text/plain": [
       "<AxesSubplot:>"
      ]
     },
     "execution_count": 43,
     "metadata": {},
     "output_type": "execute_result"
    },
    {
     "data": {
      "image/png": "[encoded data removed]",
      "text/plain": [
       "<Figure size 432x288 with 2 Axes>"
      ]
     },
     "metadata": {
      "needs_background": "light"
     },
     "output_type": "display_data"
    }
   ],
   "source": [
    "sns.heatmap(df[['Rating Count', 'Maximum Installs', 'Price']].corr(), annot=True, cmap='crest')"
   ]
  },
  {
   "cell_type": "code",
   "execution_count": 45,
   "id": "584b6d0b",
   "metadata": {},
   "outputs": [
    {
     "data": {
      "text/plain": [
       "Editors Choice\n",
       "False    3.443365e+05\n",
       "True     7.905897e+07\n",
       "Name: Maximum Installs, dtype: float64"
      ]
     },
     "execution_count": 45,
     "metadata": {},
     "output_type": "execute_result"
    }
   ],
   "source": [
    "df.groupby('Editors Choice')['Maximum Installs'].mean()"
   ]
  },
  {
   "cell_type": "code",
   "execution_count": 46,
   "id": "0364055f",
   "metadata": {},
   "outputs": [
    {
     "data": {
      "text/plain": [
       "Editors Choice\n",
       "False        824.0\n",
       "True     8135804.0\n",
       "Name: Maximum Installs, dtype: float64"
      ]
     },
     "execution_count": 46,
     "metadata": {},
     "output_type": "execute_result"
    }
   ],
   "source": [
    "df.groupby('Editors Choice')['Maximum Installs'].median()"
   ]
  },
  {
   "cell_type": "code",
   "execution_count": 48,
   "id": "146a1a20",
   "metadata": {},
   "outputs": [
    {
     "data": {
      "text/plain": [
       "<AxesSubplot:xlabel='Editors Choice', ylabel='Maximum Installs'>"
      ]
     },
     "execution_count": 48,
     "metadata": {},
     "output_type": "execute_result"
    },
    {
     "data": {
      "image/png": "[encoded data removed]",
      "text/plain": [
       "<Figure size 432x288 with 1 Axes>"
      ]
     },
     "metadata": {
      "needs_background": "light"
     },
     "output_type": "display_data"
    }
   ],
   "source": [
    "sns.boxplot(x = df['Editors Choice'], y = df['Maximum Installs'])"
   ]
  },
  {
   "cell_type": "code",
   "execution_count": 49,
   "id": "3c41ed40",
   "metadata": {},
   "outputs": [
    {
     "data": {
      "text/plain": [
       "False    1890113\n",
       "True         853\n",
       "Name: Editors Choice, dtype: int64"
      ]
     },
     "execution_count": 49,
     "metadata": {},
     "output_type": "execute_result"
    }
   ],
   "source": [
    "df['Editors Choice'].value_counts()"
   ]
  },
  {
   "cell_type": "code",
   "execution_count": null,
   "id": "3b215492",
   "metadata": {},
   "outputs": [],
   "source": []
  }
 ],
 "metadata": {
  "kernelspec": {
   "display_name": "Python 3 (ipykernel)",
   "language": "python",
   "name": "python3"
  },
  "language_info": {
   "codemirror_mode": {
    "name": "ipython",
    "version": 3
   },
   "file_extension": ".py",
   "mimetype": "text/x-python",
   "name": "python",
   "nbconvert_exporter": "python",
   "pygments_lexer": "ipython3",
   "version": "3.8.5"
  }
 },
 "nbformat": 4,
 "nbformat_minor": 5
}
